{
 "cells": [
  {
   "attachments": {},
   "cell_type": "markdown",
   "metadata": {},
   "source": [
    "### Get data from Cosmos db"
   ]
  },
  {
   "cell_type": "code",
   "execution_count": 1,
   "metadata": {},
   "outputs": [
    {
     "ename": "SyntaxError",
     "evalue": "invalid syntax (1882036817.py, line 1)",
     "output_type": "error",
     "traceback": [
      "\u001b[0;36m  Cell \u001b[0;32mIn [1], line 1\u001b[0;36m\u001b[0m\n\u001b[0;31m    azure-core==1.26.2\u001b[0m\n\u001b[0m                    ^\u001b[0m\n\u001b[0;31mSyntaxError\u001b[0m\u001b[0;31m:\u001b[0m invalid syntax\n"
     ]
    }
   ],
   "source": [
    "# azure-core==1.26.2\n",
    "# pip install azure-core\n",
    "# azure-cosmos==4.3.0\n",
    "# pip install azure-cosmos"
   ]
  },
  {
   "cell_type": "code",
   "execution_count": 2,
   "metadata": {},
   "outputs": [],
   "source": [
    "from azure.cosmos import CosmosClient, ContainerProxy, DatabaseProxy, PartitionKey"
   ]
  },
  {
   "cell_type": "code",
   "execution_count": 3,
   "metadata": {},
   "outputs": [],
   "source": [
    "endpoint = \"https://bouman-earthquake-db.documents.azure.com:443/\"\n",
    "key = \"kqshZbgJfMqCfLMaojjtNkXoYzKhe2BaaPgcrlDIdURoW1dWVPJkH9nsTXO2c1eaKXmQg20MwMSbACDb8XLizQ==\""
   ]
  },
  {
   "cell_type": "code",
   "execution_count": 4,
   "metadata": {},
   "outputs": [],
   "source": [
    "def connect(endpoint:str, key:str) -> ContainerProxy:\n",
    "    client = CosmosClient(endpoint, key)\n",
    "    database_name = \"raw_tweets\"\n",
    "    container_name = \"tweets_db\"\n",
    "    partition_key = PartitionKey(path=\"/id\")\n",
    "    database:DatabaseProxy = client.create_database_if_not_exists(id=database_name)\n",
    "    container:ContainerProxy = database.create_container_if_not_exists(id=container_name, partition_key=partition_key)\n",
    "    return container\n",
    "\n",
    "def query_cosmosdb(query:str):\n",
    "    container = connect(endpoint=endpoint, key=key)\n",
    "    items = list(container.query_items(\n",
    "        query=query,\n",
    "        enable_cross_partition_query=True\n",
    "    ))\n",
    "    return items "
   ]
  },
  {
   "cell_type": "code",
   "execution_count": 5,
   "metadata": {},
   "outputs": [],
   "source": [
    "#Conection to cosmos DB\n",
    "raw_tweets = query_cosmosdb(\"SELECT * FROM r\")  #Select all"
   ]
  },
  {
   "attachments": {},
   "cell_type": "markdown",
   "metadata": {},
   "source": [
    "### Translate tweet"
   ]
  },
  {
   "cell_type": "code",
   "execution_count": null,
   "metadata": {},
   "outputs": [],
   "source": [
    "# deep-translator==1.9.2\n",
    "# pip install deep-translator"
   ]
  },
  {
   "cell_type": "code",
   "execution_count": null,
   "metadata": {},
   "outputs": [],
   "source": [
    "from deep_translator import GoogleTranslator"
   ]
  },
  {
   "cell_type": "code",
   "execution_count": null,
   "metadata": {},
   "outputs": [],
   "source": [
    "#Translate dunction\n",
    "def translate_tweet_f(dic:dict)-> dict :\n",
    "    '''function that take dic and add a new colums who translate the text to english'''\n",
    "    try:\n",
    "        x = GoogleTranslator(source='auto', target='en').translate(dic['tweet_text'])\n",
    "        dic['translate_text'] = x        \n",
    "    except KeyError as err:\n",
    "        dic['translate_text'] = ''\n",
    "    return dic"
   ]
  },
  {
   "attachments": {},
   "cell_type": "markdown",
   "metadata": {},
   "source": [
    "### Apply formulas"
   ]
  },
  {
   "cell_type": "code",
   "execution_count": null,
   "metadata": {},
   "outputs": [],
   "source": [
    "\n",
    "import json"
   ]
  },
  {
   "cell_type": "code",
   "execution_count": null,
   "metadata": {},
   "outputs": [],
   "source": [
    "for raw_tweet in raw_tweets[0:5]:\n",
    "    #transform in english \n",
    "    raw_tweet = translate_tweet_f(raw_tweet)\n",
    "    eng_text = raw_tweet['translate_text']\n",
    "    label = olivier_model(eng_text)\n",
    "    #update dictionary\n",
    "    raw_tweet[\"ml_label\"]= label"
   ]
  },
  {
   "cell_type": "code",
   "execution_count": null,
   "metadata": {},
   "outputs": [],
   "source": [
    "raw_tweets"
   ]
  },
  {
   "cell_type": "code",
   "execution_count": null,
   "metadata": {},
   "outputs": [],
   "source": [
    "json_object = json.dumps(raw_tweets, indent=4)\n",
    "\n",
    "with open(\"sample.json\", \"w\") as outfile:\n",
    "    outfile.write(json_object)"
   ]
  }
 ],
 "metadata": {
  "kernelspec": {
   "display_name": "Python 3",
   "language": "python",
   "name": "python3"
  },
  "language_info": {
   "codemirror_mode": {
    "name": "ipython",
    "version": 3
   },
   "file_extension": ".py",
   "mimetype": "text/x-python",
   "name": "python",
   "nbconvert_exporter": "python",
   "pygments_lexer": "ipython3",
   "version": "3.10.8"
  },
  "orig_nbformat": 4,
  "vscode": {
   "interpreter": {
    "hash": "aee8b7b246df8f9039afb4144a1f6fd8d2ca17a180786b69acc140d282b71a49"
   }
  }
 },
 "nbformat": 4,
 "nbformat_minor": 2
}
