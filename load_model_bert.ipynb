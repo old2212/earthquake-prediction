{
 "cells": [
  {
   "cell_type": "code",
   "execution_count": 3,
   "metadata": {},
   "outputs": [],
   "source": [
    "from load_azure import upload_file\n",
    "import shutil"
   ]
  },
  {
   "cell_type": "code",
   "execution_count": 4,
   "metadata": {},
   "outputs": [
    {
     "data": {
      "text/plain": [
       "'/Users/olivier_ld/BECODE/Twitter_case/mymodel2.zip'"
      ]
     },
     "execution_count": 4,
     "metadata": {},
     "output_type": "execute_result"
    }
   ],
   "source": [
    "# specify the folder to be zipped\n",
    "folder_to_zip = 'mymodel2'\n",
    "\n",
    "# specify the name of the zip file\n",
    "zip_file_name = 'mymodel2'\n",
    "\n",
    "shutil.make_archive(zip_file_name, 'zip', folder_to_zip)"
   ]
  },
  {
   "cell_type": "code",
   "execution_count": 5,
   "metadata": {},
   "outputs": [
    {
     "name": "stdout",
     "output_type": "stream",
     "text": [
      "conn  DefaultEndpointsProtocol=https;AccountName=boumanearthquakedl;AccountKey=Q9qa3n8pxU8F/6eJJvpsJRfzP1tItcwbZN0HHw4URkRu9jeUiChsUmuDELbs8sLcZ6GwRvQ3jgdH+AStZjzqbA==;EndpointSuffix=core.windows.net\n",
      "cont  tweeter-classification-models\n",
      "uploading file: mymodel2.zip....\n",
      "file uploaded!\n"
     ]
    }
   ],
   "source": [
    "upload_file(\"mymodel2.zip\", \"mymodel2\" )"
   ]
  },
  {
   "cell_type": "code",
   "execution_count": null,
   "metadata": {},
   "outputs": [],
   "source": []
  }
 ],
 "metadata": {
  "kernelspec": {
   "display_name": "Python 3",
   "language": "python",
   "name": "python3"
  },
  "language_info": {
   "codemirror_mode": {
    "name": "ipython",
    "version": 3
   },
   "file_extension": ".py",
   "mimetype": "text/x-python",
   "name": "python",
   "nbconvert_exporter": "python",
   "pygments_lexer": "ipython3",
   "version": "3.10.8"
  },
  "orig_nbformat": 4,
  "vscode": {
   "interpreter": {
    "hash": "aee8b7b246df8f9039afb4144a1f6fd8d2ca17a180786b69acc140d282b71a49"
   }
  }
 },
 "nbformat": 4,
 "nbformat_minor": 2
}
